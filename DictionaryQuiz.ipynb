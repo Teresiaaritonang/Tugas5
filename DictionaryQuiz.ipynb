{
  "nbformat": 4,
  "nbformat_minor": 0,
  "metadata": {
    "colab": {
      "provenance": []
    },
    "kernelspec": {
      "name": "python3",
      "display_name": "Python 3"
    },
    "language_info": {
      "name": "python"
    }
  },
  "cells": [
    {
      "cell_type": "code",
      "execution_count": 1,
      "metadata": {
        "id": "ild5NutKukel"
      },
      "outputs": [],
      "source": [
        "#   Created by Elshad Karimov on 26/04/2020.\n",
        "#   Copyright © 2020 AppMillers. All rights reserved"
      ]
    },
    {
      "cell_type": "code",
      "source": [
        "# Dictionary Interview Questions"
      ],
      "metadata": {
        "id": "eBqdy2zCu5br"
      },
      "execution_count": 2,
      "outputs": []
    },
    {
      "cell_type": "code",
      "source": [
        "# Q-1. What will be the output of the following code snippet?\n",
        "# Answer:  B.  1\n",
        "\n",
        "a = {(1,2):1,(2,3):2}\n",
        "print(a[1,2])"
      ],
      "metadata": {
        "colab": {
          "base_uri": "https://localhost:8080/"
        },
        "id": "Xi0E4j6ZvACx",
        "outputId": "cbc9b343-e11a-49fa-bb89-90e6e440146a"
      },
      "execution_count": 4,
      "outputs": [
        {
          "output_type": "stream",
          "name": "stdout",
          "text": [
            "1\n"
          ]
        }
      ]
    },
    {
      "cell_type": "code",
      "source": [
        "# Q-2. What will be the output of the following code snippet?\n",
        "# Answer: A. Key Error\n",
        "\n",
        "a = {'a':1,'b':2,'c':3}\n",
        "print (a['a','b'])"
      ],
      "metadata": {
        "colab": {
          "base_uri": "https://localhost:8080/",
          "height": 200
        },
        "id": "XwfbYID8vDxL",
        "outputId": "bc426a4f-8b3b-4231-8338-33dd6ff710bd"
      },
      "execution_count": 6,
      "outputs": [
        {
          "output_type": "error",
          "ename": "KeyError",
          "evalue": "ignored",
          "traceback": [
            "\u001b[0;31m---------------------------------------------------------------------------\u001b[0m",
            "\u001b[0;31mKeyError\u001b[0m                                  Traceback (most recent call last)",
            "\u001b[0;32m<ipython-input-6-5be56b683336>\u001b[0m in \u001b[0;36m<cell line: 5>\u001b[0;34m()\u001b[0m\n\u001b[1;32m      3\u001b[0m \u001b[0;34m\u001b[0m\u001b[0m\n\u001b[1;32m      4\u001b[0m \u001b[0ma\u001b[0m \u001b[0;34m=\u001b[0m \u001b[0;34m{\u001b[0m\u001b[0;34m'a'\u001b[0m\u001b[0;34m:\u001b[0m\u001b[0;36m1\u001b[0m\u001b[0;34m,\u001b[0m\u001b[0;34m'b'\u001b[0m\u001b[0;34m:\u001b[0m\u001b[0;36m2\u001b[0m\u001b[0;34m,\u001b[0m\u001b[0;34m'c'\u001b[0m\u001b[0;34m:\u001b[0m\u001b[0;36m3\u001b[0m\u001b[0;34m}\u001b[0m\u001b[0;34m\u001b[0m\u001b[0;34m\u001b[0m\u001b[0m\n\u001b[0;32m----> 5\u001b[0;31m \u001b[0mprint\u001b[0m \u001b[0;34m(\u001b[0m\u001b[0ma\u001b[0m\u001b[0;34m[\u001b[0m\u001b[0;34m'a'\u001b[0m\u001b[0;34m,\u001b[0m\u001b[0;34m'b'\u001b[0m\u001b[0;34m]\u001b[0m\u001b[0;34m)\u001b[0m\u001b[0;34m\u001b[0m\u001b[0;34m\u001b[0m\u001b[0m\n\u001b[0m",
            "\u001b[0;31mKeyError\u001b[0m: ('a', 'b')"
          ]
        }
      ]
    },
    {
      "cell_type": "code",
      "source": [
        "# Q-3. What will be the output of the following code block?\n",
        "# Answer:  C. 3\n",
        "\n",
        "fruit = {}\n",
        "\n",
        "def addone(index):\n",
        "    if index in fruit:\n",
        "        fruit[index] += 1\n",
        "    else:\n",
        "        fruit[index] = 1\n",
        "        \n",
        "addone('Apple')\n",
        "addone('Banana')\n",
        "addone('apple')\n",
        "print (len(fruit))"
      ],
      "metadata": {
        "colab": {
          "base_uri": "https://localhost:8080/"
        },
        "id": "H5EghPj6vQJ_",
        "outputId": "8c09f804-b6be-466c-fece-fd2de7d8316f"
      },
      "execution_count": 8,
      "outputs": [
        {
          "output_type": "stream",
          "name": "stdout",
          "text": [
            "3\n"
          ]
        }
      ]
    },
    {
      "cell_type": "code",
      "source": [
        "# Q-4. What will be the output of the following code block?\n",
        "# Answer:  D. 4\n",
        "\n",
        "arr = {}\n",
        "arr[1] = 1\n",
        "arr['1'] = 2\n",
        "arr[1] += 1\n",
        "\n",
        "sum = 0\n",
        "for k in arr:\n",
        "    sum += arr[k]\n",
        "\n",
        "print(sum)"
      ],
      "metadata": {
        "colab": {
          "base_uri": "https://localhost:8080/"
        },
        "id": "xdg24J51vhU_",
        "outputId": "fce664c9-89b5-4871-e3cf-c27c8bca5251"
      },
      "execution_count": 10,
      "outputs": [
        {
          "output_type": "stream",
          "name": "stdout",
          "text": [
            "4\n"
          ]
        }
      ]
    },
    {
      "cell_type": "code",
      "source": [
        "# Q-5. What will be the output of the following code snippet?\n",
        "# Answer: D. 6\n",
        "\n",
        "my_dict = {}\n",
        "my_dict[1] = 1\n",
        "my_dict['1'] = 2\n",
        "my_dict[1.0] = 4\n",
        "\n",
        "sum = 0\n",
        "for k in my_dict:\n",
        "    sum += my_dict[k]\n",
        "    \n",
        "print (sum)"
      ],
      "metadata": {
        "colab": {
          "base_uri": "https://localhost:8080/"
        },
        "id": "gQYfPCz6vusj",
        "outputId": "73071bdc-f5cb-423d-b3b1-035ebae7515e"
      },
      "execution_count": 13,
      "outputs": [
        {
          "output_type": "stream",
          "name": "stdout",
          "text": [
            "6\n"
          ]
        }
      ]
    },
    {
      "cell_type": "code",
      "source": [
        "# Q-6. What will be the output of the following code snippet?\n",
        "# Answer: # B. 30   \n",
        "#        {(1, 2, 4): 8, (4, 2, 1): 10, (1, 2): 12}\n",
        "\n",
        "my_dict = {}\n",
        "my_dict[(1,2,4)] = 8\n",
        "my_dict[(4,2,1)] = 10\n",
        "my_dict[(1,2)] = 12\n",
        "\n",
        "sum = 0\n",
        "for k in my_dict:\n",
        "    sum += my_dict[k]\n",
        "\n",
        "print (sum)\n",
        "print(my_dict)"
      ],
      "metadata": {
        "colab": {
          "base_uri": "https://localhost:8080/"
        },
        "id": "8aoIzXSPv405",
        "outputId": "4eb371c7-27dd-4c9f-fd85-de8ddf11b008"
      },
      "execution_count": 15,
      "outputs": [
        {
          "output_type": "stream",
          "name": "stdout",
          "text": [
            "30\n",
            "{(1, 2, 4): 8, (4, 2, 1): 10, (1, 2): 12}\n"
          ]
        }
      ]
    },
    {
      "cell_type": "code",
      "source": [
        "# Q-7. What will be the output of the following code snippet?\n",
        "# Answer: D. Type Error\n",
        "\n",
        "box = {}\n",
        "jars = {}\n",
        "crates = {}\n",
        "box['biscuit'] = 1\n",
        "box['cake'] = 3\n",
        "jars['jam'] = 4\n",
        "crates['box'] = box\n",
        "crates['jars'] = jars\n",
        "print(len(crates[box]))"
      ],
      "metadata": {
        "colab": {
          "base_uri": "https://localhost:8080/",
          "height": 200
        },
        "id": "6NuhmAX5wGc4",
        "outputId": "a543b0c7-64b5-4d5b-d28a-72c2c33064c3"
      },
      "execution_count": 21,
      "outputs": [
        {
          "output_type": "error",
          "ename": "TypeError",
          "evalue": "ignored",
          "traceback": [
            "\u001b[0;31m---------------------------------------------------------------------------\u001b[0m",
            "\u001b[0;31mTypeError\u001b[0m                                 Traceback (most recent call last)",
            "\u001b[0;32m<ipython-input-21-5cb18a09de08>\u001b[0m in \u001b[0;36m<cell line: 12>\u001b[0;34m()\u001b[0m\n\u001b[1;32m     10\u001b[0m \u001b[0mcrates\u001b[0m\u001b[0;34m[\u001b[0m\u001b[0;34m'box'\u001b[0m\u001b[0;34m]\u001b[0m \u001b[0;34m=\u001b[0m \u001b[0mbox\u001b[0m\u001b[0;34m\u001b[0m\u001b[0;34m\u001b[0m\u001b[0m\n\u001b[1;32m     11\u001b[0m \u001b[0mcrates\u001b[0m\u001b[0;34m[\u001b[0m\u001b[0;34m'jars'\u001b[0m\u001b[0;34m]\u001b[0m \u001b[0;34m=\u001b[0m \u001b[0mjars\u001b[0m\u001b[0;34m\u001b[0m\u001b[0;34m\u001b[0m\u001b[0m\n\u001b[0;32m---> 12\u001b[0;31m \u001b[0mprint\u001b[0m\u001b[0;34m(\u001b[0m\u001b[0mlen\u001b[0m\u001b[0;34m(\u001b[0m\u001b[0mcrates\u001b[0m\u001b[0;34m[\u001b[0m\u001b[0mbox\u001b[0m\u001b[0;34m]\u001b[0m\u001b[0;34m)\u001b[0m\u001b[0;34m)\u001b[0m\u001b[0;34m\u001b[0m\u001b[0;34m\u001b[0m\u001b[0m\n\u001b[0m",
            "\u001b[0;31mTypeError\u001b[0m: unhashable type: 'dict'"
          ]
        }
      ]
    },
    {
      "cell_type": "code",
      "source": [
        "# Q-8. What will be the output of the following code block?\n",
        "# Answer: A. 96 98 97\n",
        "\n",
        "dict = {'c': 97, 'a': 96, 'b': 98}\n",
        "\n",
        "for _ in sorted(dict):\n",
        "    print (dict[_])"
      ],
      "metadata": {
        "colab": {
          "base_uri": "https://localhost:8080/"
        },
        "id": "gl0Tslb3wclb",
        "outputId": "0c7f43e3-f6f9-4d47-c59f-d332a4bc040f"
      },
      "execution_count": 23,
      "outputs": [
        {
          "output_type": "stream",
          "name": "stdout",
          "text": [
            "96\n",
            "98\n",
            "97\n"
          ]
        }
      ]
    },
    {
      "cell_type": "code",
      "source": [
        "# Q-9. What will be the output of the following code snippet?\n",
        "# Answer: B. False\n",
        "\n",
        "rec = {\"Name\" : \"Python\", \"Age\":\"20\"}\n",
        "r = rec.copy()\n",
        "print(id(r) == id(rec))"
      ],
      "metadata": {
        "colab": {
          "base_uri": "https://localhost:8080/"
        },
        "id": "-53IEMGYxBWX",
        "outputId": "4015515c-4796-47b9-d772-4171d72582ee"
      },
      "execution_count": 25,
      "outputs": [
        {
          "output_type": "stream",
          "name": "stdout",
          "text": [
            "False\n"
          ]
        }
      ]
    },
    {
      "cell_type": "code",
      "source": [
        "# Q-10. What will be the output of the following code snippet?\n",
        "# Answer: B. False\n",
        "rec = {\"Name\" : \"Python\", \"Age\":\"20\", \"Addr\" : \"NJ\", \"Country\" : \"USA\"}\n",
        "id1 = id(rec)\n",
        "del rec\n",
        "rec = {\"Name\" : \"Python\", \"Age\":\"20\", \"Addr\" : \"NJ\", \"Country\" : \"USA\"}\n",
        "id2 = id(rec)\n",
        "print(id1 == id2)"
      ],
      "metadata": {
        "colab": {
          "base_uri": "https://localhost:8080/"
        },
        "id": "BMeXvxvFxM5M",
        "outputId": "dcb142cb-805a-40b3-eb3b-2b277c1fb0de"
      },
      "execution_count": 26,
      "outputs": [
        {
          "output_type": "stream",
          "name": "stdout",
          "text": [
            "False\n"
          ]
        }
      ]
    }
  ]
}