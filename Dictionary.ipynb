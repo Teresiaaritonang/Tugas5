{
 "cells": [
  {
   "cell_type": "code",
   "execution_count": 1,
   "id": "e2820b8d",
   "metadata": {},
   "outputs": [
    {
     "name": "stdout",
     "output_type": "stream",
     "text": [
      "{'name': 'Edy', 'agae': '26', 'address': 'London'}\n"
     ]
    }
   ],
   "source": [
    "myDict= {'name':'Edy','agae':'26'}\n",
    "myDict['address'] = 'London'\n",
    "print(myDict)"
   ]
  },
  {
   "cell_type": "code",
   "execution_count": 5,
   "id": "077428c7",
   "metadata": {},
   "outputs": [
    {
     "name": "stdout",
     "output_type": "stream",
     "text": [
      "name Edy\n",
      "agae 26\n",
      "address London\n"
     ]
    }
   ],
   "source": [
    "# Traverse through a dictionary\n",
    "\n",
    "def traverseDict(dict):\n",
    "    for key in dict:\n",
    "        print(key,dict[key])\n",
    "traverseDict(myDict)"
   ]
  },
  {
   "cell_type": "code",
   "execution_count": 8,
   "id": "dfc5ea68",
   "metadata": {},
   "outputs": [
    {
     "name": "stdout",
     "output_type": "stream",
     "text": [
      "The value does not exist\n"
     ]
    }
   ],
   "source": [
    "# Search a dicionary\n",
    "\n",
    "def searchDict(dict,value):\n",
    "    for key in dict:\n",
    "        if dict[key] == value:\n",
    "            return key, value\n",
    "    return 'The value does not exist'\n",
    "print(searchDict(myDict,27))"
   ]
  },
  {
   "cell_type": "code",
   "execution_count": 20,
   "id": "410aadbb",
   "metadata": {},
   "outputs": [
    {
     "data": {
      "text/plain": [
       "'edy'"
      ]
     },
     "execution_count": 20,
     "metadata": {},
     "output_type": "execute_result"
    }
   ],
   "source": [
    "myDict.pop('name')"
   ]
  },
  {
   "cell_type": "code",
   "execution_count": 16,
   "id": "ec37e14b",
   "metadata": {},
   "outputs": [
    {
     "name": "stdout",
     "output_type": "stream",
     "text": [
      "{'agae': '26', 'address': 'London'}\n"
     ]
    }
   ],
   "source": [
    "print(myDict)"
   ]
  },
  {
   "cell_type": "code",
   "execution_count": 18,
   "id": "f230f2cd",
   "metadata": {},
   "outputs": [],
   "source": [
    "myDict.clear()"
   ]
  },
  {
   "cell_type": "code",
   "execution_count": 24,
   "id": "3ea00d8a",
   "metadata": {},
   "outputs": [],
   "source": [
    "myDict = {'name':'edy','age':26}"
   ]
  },
  {
   "cell_type": "code",
   "execution_count": 25,
   "id": "3012f733",
   "metadata": {},
   "outputs": [
    {
     "name": "stdout",
     "output_type": "stream",
     "text": [
      "{'name': 'edy', 'age': 26}\n"
     ]
    }
   ],
   "source": [
    "print(myDict)"
   ]
  },
  {
   "cell_type": "code",
   "execution_count": 26,
   "id": "3c32285f",
   "metadata": {},
   "outputs": [],
   "source": [
    "dict = myDict.copy()"
   ]
  },
  {
   "cell_type": "code",
   "execution_count": 27,
   "id": "67fff3b0",
   "metadata": {},
   "outputs": [
    {
     "name": "stdout",
     "output_type": "stream",
     "text": [
      "{'name': 'edy', 'age': 26}\n"
     ]
    }
   ],
   "source": [
    "print(dict)"
   ]
  },
  {
   "cell_type": "code",
   "execution_count": 29,
   "id": "a8e87c10",
   "metadata": {},
   "outputs": [
    {
     "name": "stdout",
     "output_type": "stream",
     "text": [
      "{1: 0, 2: 0, 3: 0}\n"
     ]
    }
   ],
   "source": [
    "newDict = {}.fromkeys([1,2,3],0)\n",
    "print(newDict)"
   ]
  },
  {
   "cell_type": "code",
   "execution_count": 30,
   "id": "094bb5b3",
   "metadata": {},
   "outputs": [
    {
     "name": "stdout",
     "output_type": "stream",
     "text": [
      "26\n"
     ]
    }
   ],
   "source": [
    "print(myDict.get('city',26))"
   ]
  },
  {
   "cell_type": "code",
   "execution_count": 31,
   "id": "5f66dfba",
   "metadata": {},
   "outputs": [
    {
     "name": "stdout",
     "output_type": "stream",
     "text": [
      "27\n"
     ]
    }
   ],
   "source": [
    "print(myDict.get('city',27))"
   ]
  },
  {
   "cell_type": "code",
   "execution_count": 32,
   "id": "e7212ad5",
   "metadata": {},
   "outputs": [
    {
     "name": "stdout",
     "output_type": "stream",
     "text": [
      "None\n"
     ]
    }
   ],
   "source": [
    "print(myDict.get('city'))"
   ]
  },
  {
   "cell_type": "code",
   "execution_count": 33,
   "id": "fd1e8544",
   "metadata": {},
   "outputs": [
    {
     "name": "stdout",
     "output_type": "stream",
     "text": [
      "dict_items([('name', 'edy'), ('age', 26)])\n"
     ]
    }
   ],
   "source": [
    "print(myDict.items())"
   ]
  },
  {
   "cell_type": "code",
   "execution_count": 34,
   "id": "ba84ac97",
   "metadata": {},
   "outputs": [
    {
     "name": "stdout",
     "output_type": "stream",
     "text": [
      "dict_keys(['name', 'age'])\n"
     ]
    }
   ],
   "source": [
    "print(myDict.keys())"
   ]
  },
  {
   "cell_type": "code",
   "execution_count": 35,
   "id": "42f1da03",
   "metadata": {},
   "outputs": [
    {
     "name": "stdout",
     "output_type": "stream",
     "text": [
      "dict_values(['edy', 26])\n"
     ]
    }
   ],
   "source": [
    "print(myDict.values())"
   ]
  },
  {
   "cell_type": "code",
   "execution_count": 36,
   "id": "354bea2c",
   "metadata": {},
   "outputs": [
    {
     "name": "stdout",
     "output_type": "stream",
     "text": [
      "('age', 26)\n"
     ]
    }
   ],
   "source": [
    "print(myDict.popitem())"
   ]
  },
  {
   "cell_type": "code",
   "execution_count": 40,
   "id": "9d4ce041",
   "metadata": {},
   "outputs": [
    {
     "name": "stdout",
     "output_type": "stream",
     "text": [
      "edy\n"
     ]
    }
   ],
   "source": [
    "print(myDict.setdefault('name','added'))"
   ]
  },
  {
   "cell_type": "code",
   "execution_count": 41,
   "id": "af05c69e",
   "metadata": {},
   "outputs": [
    {
     "name": "stdout",
     "output_type": "stream",
     "text": [
      "{'name': 'edy'}\n"
     ]
    }
   ],
   "source": [
    "print(myDict)"
   ]
  },
  {
   "cell_type": "code",
   "execution_count": 44,
   "id": "11703f70",
   "metadata": {},
   "outputs": [
    {
     "name": "stdout",
     "output_type": "stream",
     "text": [
      "added\n"
     ]
    }
   ],
   "source": [
    "print(myDict.setdefault('name1','added'))"
   ]
  },
  {
   "cell_type": "code",
   "execution_count": 46,
   "id": "24d015f5",
   "metadata": {},
   "outputs": [
    {
     "name": "stdout",
     "output_type": "stream",
     "text": [
      "{'name': 'edy', 'name1': 'added'}\n"
     ]
    }
   ],
   "source": [
    "print(myDict)"
   ]
  },
  {
   "cell_type": "code",
   "execution_count": 51,
   "id": "a9a57e6a",
   "metadata": {},
   "outputs": [
    {
     "name": "stdout",
     "output_type": "stream",
     "text": [
      "not\n"
     ]
    }
   ],
   "source": [
    "print(myDict.pop('name1','not'))"
   ]
  },
  {
   "cell_type": "code",
   "execution_count": 52,
   "id": "8cf1c2ad",
   "metadata": {},
   "outputs": [
    {
     "name": "stdout",
     "output_type": "stream",
     "text": [
      "{'name': 'edy'}\n"
     ]
    }
   ],
   "source": [
    "print(myDict)"
   ]
  },
  {
   "cell_type": "code",
   "execution_count": 53,
   "id": "7c95ec05",
   "metadata": {},
   "outputs": [
    {
     "name": "stdout",
     "output_type": "stream",
     "text": [
      "{'name': 'edy', 'a': 1, 'b': 2, 'c': 3}\n"
     ]
    }
   ],
   "source": [
    "newDict = {'a':1,'b':2,'c':3}\n",
    "myDict.update(newDict)\n",
    "print(myDict)"
   ]
  }
 ],
 "metadata": {
  "kernelspec": {
   "display_name": "Python 3 (ipykernel)",
   "language": "python",
   "name": "python3"
  },
  "language_info": {
   "codemirror_mode": {
    "name": "ipython",
    "version": 3
   },
   "file_extension": ".py",
   "mimetype": "text/x-python",
   "name": "python",
   "nbconvert_exporter": "python",
   "pygments_lexer": "ipython3",
   "version": "3.9.12"
  }
 },
 "nbformat": 4,
 "nbformat_minor": 5
}
