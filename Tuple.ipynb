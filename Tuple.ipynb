{
 "cells": [
  {
   "cell_type": "code",
   "execution_count": 1,
   "id": "aa21045c",
   "metadata": {},
   "outputs": [
    {
     "name": "stdout",
     "output_type": "stream",
     "text": [
      "('a', 'b', 'c', 'd', 'd', 'e')\n"
     ]
    }
   ],
   "source": [
    "newtuple=('a','b','c','d','d','e')\n",
    "newtuple1= tuple('abcde')\n",
    "print(newtuple)"
   ]
  },
  {
   "cell_type": "code",
   "execution_count": 2,
   "id": "317c1a5e",
   "metadata": {},
   "outputs": [
    {
     "name": "stdout",
     "output_type": "stream",
     "text": [
      "('a', 'b', 'c', 'd', 'e')\n"
     ]
    }
   ],
   "source": [
    "print(newtuple1)"
   ]
  },
  {
   "cell_type": "code",
   "execution_count": 7,
   "id": "a32025b9",
   "metadata": {},
   "outputs": [
    {
     "name": "stdout",
     "output_type": "stream",
     "text": [
      "('a', 'b', 'c', 'd')\n"
     ]
    }
   ],
   "source": [
    "#Access tuple element\n",
    "print(newtuple[0:4])"
   ]
  },
  {
   "cell_type": "code",
   "execution_count": 8,
   "id": "905cdd9d",
   "metadata": {},
   "outputs": [
    {
     "name": "stdout",
     "output_type": "stream",
     "text": [
      "a\n",
      "b\n",
      "c\n",
      "d\n",
      "d\n",
      "e\n"
     ]
    }
   ],
   "source": [
    "#Traverse through tuple\n",
    "for i in newtuple:\n",
    "    print(i)"
   ]
  },
  {
   "cell_type": "code",
   "execution_count": 9,
   "id": "f308da97",
   "metadata": {},
   "outputs": [
    {
     "name": "stdout",
     "output_type": "stream",
     "text": [
      "a\n",
      "b\n",
      "c\n",
      "d\n",
      "d\n",
      "e\n"
     ]
    }
   ],
   "source": [
    "for index in range(len(newtuple)):\n",
    "    print(newtuple[index])"
   ]
  },
  {
   "cell_type": "code",
   "execution_count": 12,
   "id": "3d8ca3a6",
   "metadata": {},
   "outputs": [
    {
     "name": "stdout",
     "output_type": "stream",
     "text": [
      "True\n"
     ]
    }
   ],
   "source": [
    "#how to search for an element \n",
    "print('a' in newtuple)"
   ]
  },
  {
   "cell_type": "code",
   "execution_count": 14,
   "id": "eb94b886",
   "metadata": {},
   "outputs": [
    {
     "name": "stdout",
     "output_type": "stream",
     "text": [
      "0\n"
     ]
    }
   ],
   "source": [
    "def searchintuple(ptuple,element):\n",
    "    for i in ptuple:\n",
    "        if i == element:\n",
    "            return ptuple.index(i)\n",
    "    return 'The element does not exist'\n",
    "print(searchintuple(newtuple, 'a'))\n",
    "        \n",
    "    "
   ]
  },
  {
   "cell_type": "code",
   "execution_count": 18,
   "id": "96c2817e",
   "metadata": {},
   "outputs": [
    {
     "name": "stdout",
     "output_type": "stream",
     "text": [
      "(1, 4, 3, 2, 5, 1, 2, 6, 9, 8, 7)\n"
     ]
    }
   ],
   "source": [
    "#Tuple operation\n",
    "mytuple =(1,4,3,2,5)\n",
    "mytuple1 =(1,2,6,9,8,7)\n",
    "\n",
    "print(mytuple+mytuple1)"
   ]
  },
  {
   "cell_type": "code",
   "execution_count": 19,
   "id": "7742b040",
   "metadata": {},
   "outputs": [
    {
     "data": {
      "text/plain": [
       "1"
      ]
     },
     "execution_count": 19,
     "metadata": {},
     "output_type": "execute_result"
    }
   ],
   "source": [
    "mytuple1.count(2)"
   ]
  },
  {
   "cell_type": "code",
   "execution_count": 20,
   "id": "4bb21773",
   "metadata": {},
   "outputs": [
    {
     "name": "stdout",
     "output_type": "stream",
     "text": [
      "(1, 4, 3, 2, 5, 1, 4, 3, 2, 5, 1, 4, 3, 2, 5, 1, 4, 3, 2, 5)\n"
     ]
    }
   ],
   "source": [
    "print(mytuple*4)"
   ]
  },
  {
   "cell_type": "code",
   "execution_count": 21,
   "id": "7a6c0be6",
   "metadata": {},
   "outputs": [
    {
     "data": {
      "text/plain": [
       "1"
      ]
     },
     "execution_count": 21,
     "metadata": {},
     "output_type": "execute_result"
    }
   ],
   "source": [
    "mytuple1.index(2)"
   ]
  },
  {
   "cell_type": "code",
   "execution_count": 23,
   "id": "51e37be8",
   "metadata": {},
   "outputs": [
    {
     "name": "stdout",
     "output_type": "stream",
     "text": [
      "10 25 40\n"
     ]
    }
   ],
   "source": [
    "x,y,z = (10,15,20,25,30,35,40)[0::3]\n",
    "print(x,y,z)"
   ]
  },
  {
   "cell_type": "code",
   "execution_count": 24,
   "id": "fa2e24c5",
   "metadata": {},
   "outputs": [
    {
     "name": "stdout",
     "output_type": "stream",
     "text": [
      "3 -6\n"
     ]
    }
   ],
   "source": [
    "x=3\n",
    "y=-6\n",
    "\n",
    "x,y = (y,x)[::-1]\n",
    "print(x,y)"
   ]
  },
  {
   "cell_type": "code",
   "execution_count": null,
   "id": "8a199254",
   "metadata": {},
   "outputs": [],
   "source": []
  }
 ],
 "metadata": {
  "kernelspec": {
   "display_name": "Python 3 (ipykernel)",
   "language": "python",
   "name": "python3"
  },
  "language_info": {
   "codemirror_mode": {
    "name": "ipython",
    "version": 3
   },
   "file_extension": ".py",
   "mimetype": "text/x-python",
   "name": "python",
   "nbconvert_exporter": "python",
   "pygments_lexer": "ipython3",
   "version": "3.9.12"
  }
 },
 "nbformat": 4,
 "nbformat_minor": 5
}
